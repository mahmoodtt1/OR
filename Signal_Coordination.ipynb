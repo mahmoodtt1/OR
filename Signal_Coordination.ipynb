{
  "nbformat": 4,
  "nbformat_minor": 0,
  "metadata": {
    "colab": {
      "provenance": [],
      "authorship_tag": "ABX9TyN0IpxGMyT6q7RYWlUXiUV7",
      "include_colab_link": true
    },
    "kernelspec": {
      "name": "python3",
      "display_name": "Python 3"
    },
    "language_info": {
      "name": "python"
    }
  },
  "cells": [
    {
      "cell_type": "markdown",
      "metadata": {
        "id": "view-in-github",
        "colab_type": "text"
      },
      "source": [
        "<a href=\"https://colab.research.google.com/github/mahmoodtt1/OR/blob/main/Signal_Coordination.ipynb\" target=\"_parent\"><img src=\"https://colab.research.google.com/assets/colab-badge.svg\" alt=\"Open In Colab\"/></a>"
      ]
    },
    {
      "cell_type": "code",
      "execution_count": 14,
      "metadata": {
        "colab": {
          "base_uri": "https://localhost:8080/"
        },
        "id": "egmrreHOzu2k",
        "outputId": "0e15a9f1-028c-4203-e6c7-bf1a6f9fd826"
      },
      "outputs": [
        {
          "output_type": "stream",
          "name": "stdout",
          "text": [
            "Requirement already satisfied: networkx in /usr/local/lib/python3.11/dist-packages (3.5)\n",
            "Requirement already satisfied: matplotlib in /usr/local/lib/python3.11/dist-packages (3.10.0)\n",
            "Requirement already satisfied: contourpy>=1.0.1 in /usr/local/lib/python3.11/dist-packages (from matplotlib) (1.3.2)\n",
            "Requirement already satisfied: cycler>=0.10 in /usr/local/lib/python3.11/dist-packages (from matplotlib) (0.12.1)\n",
            "Requirement already satisfied: fonttools>=4.22.0 in /usr/local/lib/python3.11/dist-packages (from matplotlib) (4.58.5)\n",
            "Requirement already satisfied: kiwisolver>=1.3.1 in /usr/local/lib/python3.11/dist-packages (from matplotlib) (1.4.8)\n",
            "Requirement already satisfied: numpy>=1.23 in /usr/local/lib/python3.11/dist-packages (from matplotlib) (2.0.2)\n",
            "Requirement already satisfied: packaging>=20.0 in /usr/local/lib/python3.11/dist-packages (from matplotlib) (24.2)\n",
            "Requirement already satisfied: pillow>=8 in /usr/local/lib/python3.11/dist-packages (from matplotlib) (11.2.1)\n",
            "Requirement already satisfied: pyparsing>=2.3.1 in /usr/local/lib/python3.11/dist-packages (from matplotlib) (3.2.3)\n",
            "Requirement already satisfied: python-dateutil>=2.7 in /usr/local/lib/python3.11/dist-packages (from matplotlib) (2.9.0.post0)\n",
            "Requirement already satisfied: six>=1.5 in /usr/local/lib/python3.11/dist-packages (from python-dateutil>=2.7->matplotlib) (1.17.0)\n",
            "Reading package lists... Done\n",
            "Building dependency tree... Done\n",
            "Reading state information... Done\n",
            "glpk-utils is already the newest version (5.0-1).\n",
            "0 upgraded, 0 newly installed, 0 to remove and 35 not upgraded.\n",
            "Reading package lists... Done\n",
            "Building dependency tree... Done\n",
            "Reading state information... Done\n",
            "coinor-cbc is already the newest version (2.10.7+ds1-1).\n",
            "0 upgraded, 0 newly installed, 0 to remove and 35 not upgraded.\n"
          ]
        }
      ],
      "source": [
        "from pyomo.environ import *\n",
        "\n",
        "# install needed libraries\n",
        "\n",
        "!pip install networkx matplotlib\n",
        "\n",
        "# install pyomo solvers.\n",
        "\n",
        "!apt-get install -y glpk-utils\n",
        "\n",
        "!apt-get install -y coinor-cbc\n"
      ]
    },
    {
      "cell_type": "code",
      "source": [
        "from pyomo.environ import *\n",
        "\n",
        "# Create model\n",
        "model = ConcreteModel()\n",
        "\n",
        "# Sets\n",
        "model.I = Set(initialize=['1'])  # single coordinated phase for now\n",
        "\n",
        "# Parameters\n",
        "C = 120\n",
        "t_AB = 65\n",
        "g_min = 15\n",
        "g_max = 60\n",
        "M = 1000  # Large constant for Big-M\n",
        "\n",
        "model.C = Param(initialize=C)\n",
        "model.t_AB = Param(initialize=t_AB)\n",
        "model.g_min = Param(initialize=g_min)\n",
        "model.g_max = Param(initialize=g_max)\n",
        "model.M = Param(initialize=M)\n",
        "\n",
        "# Variables\n",
        "model.s_A = Var(model.I, bounds=(0, C))                     # start at A\n",
        "model.s_B = Var(model.I, bounds=(0, C))                     # start at B\n",
        "model.g_A = Var(model.I, bounds=(g_min, g_max))             # green time at A\n",
        "model.g_B = Var(model.I, bounds=(g_min, g_max))             # green time at B\n",
        "\n",
        "model.e_A = Var(model.I)                                    # end time at A\n",
        "model.e_B = Var(model.I)                                    # end time at B\n",
        "\n",
        "model.early_end = Var(model.I)                              # min(e_A, e_B - t_AB)\n",
        "model.late_start = Var(model.I)                             # max(s_A, s_B - t_AB)\n",
        "model.o = Var(model.I, within=NonNegativeReals)             # overlap duration\n",
        "\n",
        "model.x = Var(model.I, within=Binary)                       # for min()\n",
        "model.y = Var(model.I, within=Binary)                       # for max()\n",
        "\n",
        "# Constraints\n",
        "\n",
        "# End time definitions\n",
        "def end_A_rule(m, i):\n",
        "    return m.e_A[i] == m.s_A[i] + m.g_A[i]\n",
        "model.end_A = Constraint(model.I, rule=end_A_rule)\n",
        "\n",
        "def end_B_rule(m, i):\n",
        "    return m.e_B[i] == m.s_B[i] + m.g_B[i]\n",
        "model.end_B = Constraint(model.I, rule=end_B_rule)\n",
        "\n",
        "# Shifted values (in constraints directly, so no extra variables)\n",
        "\n",
        "# Min(e_A, e_B - t_AB) using binary x\n",
        "def min_upper_1(m, i):\n",
        "    return m.early_end[i] <= m.e_A[i]\n",
        "def min_upper_2(m, i):\n",
        "    return m.early_end[i] <= m.e_B[i] - m.t_AB\n",
        "def min_lower_1(m, i):\n",
        "    return m.early_end[i] >= m.e_A[i] - m.M * (1 - m.x[i])\n",
        "def min_lower_2(m, i):\n",
        "    return m.early_end[i] >= m.e_B[i] - m.t_AB - m.M * m.x[i]\n",
        "\n",
        "model.min1_u1 = Constraint(model.I, rule=min_upper_1)\n",
        "model.min1_u2 = Constraint(model.I, rule=min_upper_2)\n",
        "model.min1_l1 = Constraint(model.I, rule=min_lower_1)\n",
        "model.min1_l2 = Constraint(model.I, rule=min_lower_2)\n",
        "\n",
        "# Max(s_A, s_B - t_AB) using binary y\n",
        "def max_lower_1(m, i):\n",
        "    return m.late_start[i] >= m.s_A[i]\n",
        "def max_lower_2(m, i):\n",
        "    return m.late_start[i] >= m.s_B[i] - m.t_AB\n",
        "def max_upper_1(m, i):\n",
        "    return m.late_start[i] <= m.s_A[i] + m.M * (1 - m.y[i])\n",
        "def max_upper_2(m, i):\n",
        "    return m.late_start[i] <= m.s_B[i] - m.t_AB + m.M * m.y[i]\n",
        "\n",
        "model.max1_l1 = Constraint(model.I, rule=max_lower_1)\n",
        "model.max1_l2 = Constraint(model.I, rule=max_lower_2)\n",
        "model.max1_u1 = Constraint(model.I, rule=max_upper_1)\n",
        "model.max1_u2 = Constraint(model.I, rule=max_upper_2)\n",
        "\n",
        "# Overlap definition\n",
        "def overlap_rule(m, i):\n",
        "    return m.o[i] == m.early_end[i] - m.late_start[i]\n",
        "model.overlap_def = Constraint(model.I, rule=overlap_rule)\n",
        "\n",
        "# Ensure non-negative overlap\n",
        "def overlap_nonneg(m, i):\n",
        "    return m.o[i] >= 0\n",
        "model.overlap_nonneg = Constraint(model.I, rule=overlap_nonneg)\n",
        "\n",
        "# Objective: maximize total overlap\n",
        "def objective_rule(m):\n",
        "    return sum(m.o[i] for i in m.I)\n",
        "model.obj = Objective(rule=objective_rule, sense=maximize)\n"
      ],
      "metadata": {
        "id": "MpxEVKMzzzQF"
      },
      "execution_count": 22,
      "outputs": []
    },
    {
      "cell_type": "code",
      "source": [
        "solver = SolverFactory(\"glpk\", executable=\"/usr/bin/glpsol\")\n",
        "\n",
        "results = solver.solve(model, tee=True)\n",
        "\n"
      ],
      "metadata": {
        "colab": {
          "base_uri": "https://localhost:8080/"
        },
        "id": "6nztokvXz4rP",
        "outputId": "ebbc389d-6d52-4092-8727-5eeb43f8e9cf"
      },
      "execution_count": 23,
      "outputs": [
        {
          "output_type": "stream",
          "name": "stdout",
          "text": [
            "GLPSOL--GLPK LP/MIP Solver 5.0\n",
            "Parameter(s) specified in the command line:\n",
            " --write /tmp/tmp3ii1z2ft.glpk.raw --wglp /tmp/tmphykd0z2t.glpk.glp --cpxlp\n",
            " /tmp/tmp2fcl04w0.pyomo.lp\n",
            "Reading problem data from '/tmp/tmp2fcl04w0.pyomo.lp'...\n",
            "/tmp/tmp2fcl04w0.pyomo.lp:88: warning: lower bound of variable 'x15' redefined\n",
            "/tmp/tmp2fcl04w0.pyomo.lp:88: warning: upper bound of variable 'x15' redefined\n",
            "12 rows, 11 columns, 30 non-zeros\n",
            "2 integer variables, all of which are binary\n",
            "90 lines were read\n",
            "Writing problem data to '/tmp/tmphykd0z2t.glpk.glp'...\n",
            "75 lines were written\n",
            "GLPK Integer Optimizer 5.0\n",
            "12 rows, 11 columns, 30 non-zeros\n",
            "2 integer variables, all of which are binary\n",
            "Preprocessing...\n",
            "4 constraint coefficient(s) were reduced\n",
            "11 rows, 8 columns, 26 non-zeros\n",
            "2 integer variables, all of which are binary\n",
            "Scaling...\n",
            " A: min|aij| =  1.000e+00  max|aij| =  1.800e+02  ratio =  1.800e+02\n",
            "GM: min|aij| =  8.940e-01  max|aij| =  1.119e+00  ratio =  1.251e+00\n",
            "EQ: min|aij| =  7.993e-01  max|aij| =  1.000e+00  ratio =  1.251e+00\n",
            "2N: min|aij| =  8.984e-01  max|aij| =  1.406e+00  ratio =  1.565e+00\n",
            "Constructing initial basis...\n",
            "Size of triangular part is 11\n",
            "Solving LP relaxation...\n",
            "GLPK Simplex Optimizer 5.0\n",
            "11 rows, 8 columns, 26 non-zeros\n",
            "      0: obj =  -0.000000000e+00 inf =   6.000e+01 (1)\n",
            "      1: obj =  -0.000000000e+00 inf =   0.000e+00 (0)\n",
            "*     5: obj =   6.000000000e+01 inf =   0.000e+00 (0)\n",
            "OPTIMAL LP SOLUTION FOUND\n",
            "Integer optimization begins...\n",
            "Long-step dual simplex will be used\n",
            "+     5: mip =     not found yet <=              +inf        (1; 0)\n",
            "+     5: >>>>>   6.000000000e+01 <=   6.000000000e+01   0.0% (1; 0)\n",
            "+     5: mip =   6.000000000e+01 <=     tree is empty   0.0% (0; 1)\n",
            "INTEGER OPTIMAL SOLUTION FOUND\n",
            "Time used:   0.0 secs\n",
            "Memory used: 0.1 Mb (66042 bytes)\n",
            "Writing MIP solution to '/tmp/tmp3ii1z2ft.glpk.raw'...\n",
            "32 lines were written\n"
          ]
        }
      ]
    },
    {
      "cell_type": "code",
      "source": [
        "\n",
        "for i in model.I:\n",
        "    print(f\"Phase {i}:\")\n",
        "    print(f\"  s_A = {value(model.s_A[i]):.2f}\")\n",
        "    print(f\"  g_A = {value(model.g_A[i]):.2f}\")\n",
        "    print(f\"  s_B = {value(model.s_B[i]):.2f}\")\n",
        "    print(f\"  g_B = {value(model.g_B[i]):.2f}\")\n",
        "    print(f\"  Overlap = {value(model.o[i]):.2f}\")\n"
      ],
      "metadata": {
        "colab": {
          "base_uri": "https://localhost:8080/"
        },
        "id": "ffdz602uz4pI",
        "outputId": "9fefd616-638b-48e3-f0c9-93375d0ae61a"
      },
      "execution_count": 24,
      "outputs": [
        {
          "output_type": "stream",
          "name": "stdout",
          "text": [
            "Phase 1:\n",
            "  s_A = 0.00\n",
            "  g_A = 60.00\n",
            "  s_B = 65.00\n",
            "  g_B = 60.00\n",
            "  Overlap = 60.00\n"
          ]
        }
      ]
    }
  ]
}