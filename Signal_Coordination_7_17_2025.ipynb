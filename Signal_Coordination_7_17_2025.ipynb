{
  "nbformat": 4,
  "nbformat_minor": 0,
  "metadata": {
    "colab": {
      "provenance": [],
      "authorship_tag": "ABX9TyNSDM5AdRMWz6W+pjDZcv9E",
      "include_colab_link": true
    },
    "kernelspec": {
      "name": "python3",
      "display_name": "Python 3"
    },
    "language_info": {
      "name": "python"
    }
  },
  "cells": [
    {
      "cell_type": "markdown",
      "metadata": {
        "id": "view-in-github",
        "colab_type": "text"
      },
      "source": [
        "<a href=\"https://colab.research.google.com/github/mahmoodtt1/OR/blob/main/Signal_Coordination_7_17_2025.ipynb\" target=\"_parent\"><img src=\"https://colab.research.google.com/assets/colab-badge.svg\" alt=\"Open In Colab\"/></a>"
      ]
    },
    {
      "cell_type": "code",
      "execution_count": 1,
      "metadata": {
        "colab": {
          "base_uri": "https://localhost:8080/"
        },
        "id": "egmrreHOzu2k",
        "outputId": "c69aea02-d1d5-450a-edd2-b76e3dd9fbae"
      },
      "outputs": [
        {
          "output_type": "stream",
          "name": "stdout",
          "text": [
            "Requirement already satisfied: networkx in /usr/local/lib/python3.11/dist-packages (3.5)\n",
            "Requirement already satisfied: matplotlib in /usr/local/lib/python3.11/dist-packages (3.10.0)\n",
            "Requirement already satisfied: contourpy>=1.0.1 in /usr/local/lib/python3.11/dist-packages (from matplotlib) (1.3.2)\n",
            "Requirement already satisfied: cycler>=0.10 in /usr/local/lib/python3.11/dist-packages (from matplotlib) (0.12.1)\n",
            "Requirement already satisfied: fonttools>=4.22.0 in /usr/local/lib/python3.11/dist-packages (from matplotlib) (4.58.5)\n",
            "Requirement already satisfied: kiwisolver>=1.3.1 in /usr/local/lib/python3.11/dist-packages (from matplotlib) (1.4.8)\n",
            "Requirement already satisfied: numpy>=1.23 in /usr/local/lib/python3.11/dist-packages (from matplotlib) (2.0.2)\n",
            "Requirement already satisfied: packaging>=20.0 in /usr/local/lib/python3.11/dist-packages (from matplotlib) (25.0)\n",
            "Requirement already satisfied: pillow>=8 in /usr/local/lib/python3.11/dist-packages (from matplotlib) (11.2.1)\n",
            "Requirement already satisfied: pyparsing>=2.3.1 in /usr/local/lib/python3.11/dist-packages (from matplotlib) (3.2.3)\n",
            "Requirement already satisfied: python-dateutil>=2.7 in /usr/local/lib/python3.11/dist-packages (from matplotlib) (2.9.0.post0)\n",
            "Requirement already satisfied: six>=1.5 in /usr/local/lib/python3.11/dist-packages (from python-dateutil>=2.7->matplotlib) (1.17.0)\n",
            "Reading package lists... Done\n",
            "Building dependency tree... Done\n",
            "Reading state information... Done\n",
            "The following additional packages will be installed:\n",
            "  libamd2 libcolamd2 libglpk40 libsuitesparseconfig5\n",
            "Suggested packages:\n",
            "  libiodbc2-dev\n",
            "The following NEW packages will be installed:\n",
            "  glpk-utils libamd2 libcolamd2 libglpk40 libsuitesparseconfig5\n",
            "0 upgraded, 5 newly installed, 0 to remove and 35 not upgraded.\n",
            "Need to get 625 kB of archives.\n",
            "After this operation, 2,158 kB of additional disk space will be used.\n",
            "Get:1 http://archive.ubuntu.com/ubuntu jammy/main amd64 libsuitesparseconfig5 amd64 1:5.10.1+dfsg-4build1 [10.4 kB]\n",
            "Get:2 http://archive.ubuntu.com/ubuntu jammy/universe amd64 libamd2 amd64 1:5.10.1+dfsg-4build1 [21.6 kB]\n",
            "Get:3 http://archive.ubuntu.com/ubuntu jammy/main amd64 libcolamd2 amd64 1:5.10.1+dfsg-4build1 [18.0 kB]\n",
            "Get:4 http://archive.ubuntu.com/ubuntu jammy/universe amd64 libglpk40 amd64 5.0-1 [361 kB]\n",
            "Get:5 http://archive.ubuntu.com/ubuntu jammy/universe amd64 glpk-utils amd64 5.0-1 [214 kB]\n",
            "Fetched 625 kB in 1s (822 kB/s)\n",
            "Selecting previously unselected package libsuitesparseconfig5:amd64.\n",
            "(Reading database ... 126281 files and directories currently installed.)\n",
            "Preparing to unpack .../libsuitesparseconfig5_1%3a5.10.1+dfsg-4build1_amd64.deb ...\n",
            "Unpacking libsuitesparseconfig5:amd64 (1:5.10.1+dfsg-4build1) ...\n",
            "Selecting previously unselected package libamd2:amd64.\n",
            "Preparing to unpack .../libamd2_1%3a5.10.1+dfsg-4build1_amd64.deb ...\n",
            "Unpacking libamd2:amd64 (1:5.10.1+dfsg-4build1) ...\n",
            "Selecting previously unselected package libcolamd2:amd64.\n",
            "Preparing to unpack .../libcolamd2_1%3a5.10.1+dfsg-4build1_amd64.deb ...\n",
            "Unpacking libcolamd2:amd64 (1:5.10.1+dfsg-4build1) ...\n",
            "Selecting previously unselected package libglpk40:amd64.\n",
            "Preparing to unpack .../libglpk40_5.0-1_amd64.deb ...\n",
            "Unpacking libglpk40:amd64 (5.0-1) ...\n",
            "Selecting previously unselected package glpk-utils.\n",
            "Preparing to unpack .../glpk-utils_5.0-1_amd64.deb ...\n",
            "Unpacking glpk-utils (5.0-1) ...\n",
            "Setting up libsuitesparseconfig5:amd64 (1:5.10.1+dfsg-4build1) ...\n",
            "Setting up libamd2:amd64 (1:5.10.1+dfsg-4build1) ...\n",
            "Setting up libcolamd2:amd64 (1:5.10.1+dfsg-4build1) ...\n",
            "Setting up libglpk40:amd64 (5.0-1) ...\n",
            "Setting up glpk-utils (5.0-1) ...\n",
            "Processing triggers for man-db (2.10.2-1) ...\n",
            "Processing triggers for libc-bin (2.35-0ubuntu3.8) ...\n",
            "/sbin/ldconfig.real: /usr/local/lib/libur_adapter_level_zero_v2.so.0 is not a symbolic link\n",
            "\n",
            "/sbin/ldconfig.real: /usr/local/lib/libtbbbind_2_0.so.3 is not a symbolic link\n",
            "\n",
            "/sbin/ldconfig.real: /usr/local/lib/libur_loader.so.0 is not a symbolic link\n",
            "\n",
            "/sbin/ldconfig.real: /usr/local/lib/libtbbbind_2_5.so.3 is not a symbolic link\n",
            "\n",
            "/sbin/ldconfig.real: /usr/local/lib/libumf.so.0 is not a symbolic link\n",
            "\n",
            "/sbin/ldconfig.real: /usr/local/lib/libtcm.so.1 is not a symbolic link\n",
            "\n",
            "/sbin/ldconfig.real: /usr/local/lib/libtcm_debug.so.1 is not a symbolic link\n",
            "\n",
            "/sbin/ldconfig.real: /usr/local/lib/libtbbmalloc.so.2 is not a symbolic link\n",
            "\n",
            "/sbin/ldconfig.real: /usr/local/lib/libtbbbind.so.3 is not a symbolic link\n",
            "\n",
            "/sbin/ldconfig.real: /usr/local/lib/libhwloc.so.15 is not a symbolic link\n",
            "\n",
            "/sbin/ldconfig.real: /usr/local/lib/libur_adapter_opencl.so.0 is not a symbolic link\n",
            "\n",
            "/sbin/ldconfig.real: /usr/local/lib/libtbb.so.12 is not a symbolic link\n",
            "\n",
            "/sbin/ldconfig.real: /usr/local/lib/libtbbmalloc_proxy.so.2 is not a symbolic link\n",
            "\n",
            "/sbin/ldconfig.real: /usr/local/lib/libur_adapter_level_zero.so.0 is not a symbolic link\n",
            "\n",
            "Reading package lists... Done\n",
            "Building dependency tree... Done\n",
            "Reading state information... Done\n",
            "The following additional packages will be installed:\n",
            "  coinor-libcbc3 coinor-libcgl1 coinor-libclp1 coinor-libcoinutils3v5\n",
            "  coinor-libosi1v5\n",
            "The following NEW packages will be installed:\n",
            "  coinor-cbc coinor-libcbc3 coinor-libcgl1 coinor-libclp1\n",
            "  coinor-libcoinutils3v5 coinor-libosi1v5\n",
            "0 upgraded, 6 newly installed, 0 to remove and 35 not upgraded.\n",
            "Need to get 2,908 kB of archives.\n",
            "After this operation, 8,310 kB of additional disk space will be used.\n",
            "Get:1 http://archive.ubuntu.com/ubuntu jammy/universe amd64 coinor-libcoinutils3v5 amd64 2.11.4+repack1-2 [465 kB]\n",
            "Get:2 http://archive.ubuntu.com/ubuntu jammy/universe amd64 coinor-libosi1v5 amd64 0.108.6+repack1-2 [275 kB]\n",
            "Get:3 http://archive.ubuntu.com/ubuntu jammy/universe amd64 coinor-libclp1 amd64 1.17.5+repack1-1 [937 kB]\n",
            "Get:4 http://archive.ubuntu.com/ubuntu jammy/universe amd64 coinor-libcgl1 amd64 0.60.3+repack1-3 [420 kB]\n",
            "Get:5 http://archive.ubuntu.com/ubuntu jammy/universe amd64 coinor-libcbc3 amd64 2.10.7+ds1-1 [799 kB]\n",
            "Get:6 http://archive.ubuntu.com/ubuntu jammy/universe amd64 coinor-cbc amd64 2.10.7+ds1-1 [11.6 kB]\n",
            "Fetched 2,908 kB in 0s (17.3 MB/s)\n",
            "Selecting previously unselected package coinor-libcoinutils3v5:amd64.\n",
            "(Reading database ... 126484 files and directories currently installed.)\n",
            "Preparing to unpack .../0-coinor-libcoinutils3v5_2.11.4+repack1-2_amd64.deb ...\n",
            "Unpacking coinor-libcoinutils3v5:amd64 (2.11.4+repack1-2) ...\n",
            "Selecting previously unselected package coinor-libosi1v5:amd64.\n",
            "Preparing to unpack .../1-coinor-libosi1v5_0.108.6+repack1-2_amd64.deb ...\n",
            "Unpacking coinor-libosi1v5:amd64 (0.108.6+repack1-2) ...\n",
            "Selecting previously unselected package coinor-libclp1.\n",
            "Preparing to unpack .../2-coinor-libclp1_1.17.5+repack1-1_amd64.deb ...\n",
            "Unpacking coinor-libclp1 (1.17.5+repack1-1) ...\n",
            "Selecting previously unselected package coinor-libcgl1:amd64.\n",
            "Preparing to unpack .../3-coinor-libcgl1_0.60.3+repack1-3_amd64.deb ...\n",
            "Unpacking coinor-libcgl1:amd64 (0.60.3+repack1-3) ...\n",
            "Selecting previously unselected package coinor-libcbc3:amd64.\n",
            "Preparing to unpack .../4-coinor-libcbc3_2.10.7+ds1-1_amd64.deb ...\n",
            "Unpacking coinor-libcbc3:amd64 (2.10.7+ds1-1) ...\n",
            "Selecting previously unselected package coinor-cbc.\n",
            "Preparing to unpack .../5-coinor-cbc_2.10.7+ds1-1_amd64.deb ...\n",
            "Unpacking coinor-cbc (2.10.7+ds1-1) ...\n",
            "Setting up coinor-libcoinutils3v5:amd64 (2.11.4+repack1-2) ...\n",
            "Setting up coinor-libosi1v5:amd64 (0.108.6+repack1-2) ...\n",
            "Setting up coinor-libclp1 (1.17.5+repack1-1) ...\n",
            "Setting up coinor-libcgl1:amd64 (0.60.3+repack1-3) ...\n",
            "Setting up coinor-libcbc3:amd64 (2.10.7+ds1-1) ...\n",
            "Setting up coinor-cbc (2.10.7+ds1-1) ...\n",
            "Processing triggers for man-db (2.10.2-1) ...\n",
            "Processing triggers for libc-bin (2.35-0ubuntu3.8) ...\n",
            "/sbin/ldconfig.real: /usr/local/lib/libur_adapter_level_zero_v2.so.0 is not a symbolic link\n",
            "\n",
            "/sbin/ldconfig.real: /usr/local/lib/libtbbbind_2_0.so.3 is not a symbolic link\n",
            "\n",
            "/sbin/ldconfig.real: /usr/local/lib/libur_loader.so.0 is not a symbolic link\n",
            "\n",
            "/sbin/ldconfig.real: /usr/local/lib/libtbbbind_2_5.so.3 is not a symbolic link\n",
            "\n",
            "/sbin/ldconfig.real: /usr/local/lib/libumf.so.0 is not a symbolic link\n",
            "\n",
            "/sbin/ldconfig.real: /usr/local/lib/libtcm.so.1 is not a symbolic link\n",
            "\n",
            "/sbin/ldconfig.real: /usr/local/lib/libtcm_debug.so.1 is not a symbolic link\n",
            "\n",
            "/sbin/ldconfig.real: /usr/local/lib/libtbbmalloc.so.2 is not a symbolic link\n",
            "\n",
            "/sbin/ldconfig.real: /usr/local/lib/libtbbbind.so.3 is not a symbolic link\n",
            "\n",
            "/sbin/ldconfig.real: /usr/local/lib/libhwloc.so.15 is not a symbolic link\n",
            "\n",
            "/sbin/ldconfig.real: /usr/local/lib/libur_adapter_opencl.so.0 is not a symbolic link\n",
            "\n",
            "/sbin/ldconfig.real: /usr/local/lib/libtbb.so.12 is not a symbolic link\n",
            "\n",
            "/sbin/ldconfig.real: /usr/local/lib/libtbbmalloc_proxy.so.2 is not a symbolic link\n",
            "\n",
            "/sbin/ldconfig.real: /usr/local/lib/libur_adapter_level_zero.so.0 is not a symbolic link\n",
            "\n"
          ]
        }
      ],
      "source": [
        "from pyomo.environ import *\n",
        "\n",
        "# install needed libraries\n",
        "\n",
        "!pip install networkx matplotlib\n",
        "\n",
        "# install pyomo solvers.\n",
        "\n",
        "!apt-get install -y glpk-utils\n",
        "\n",
        "!apt-get install -y coinor-cbc\n"
      ]
    },
    {
      "cell_type": "code",
      "source": [
        "from pyomo.environ import *\n",
        "\n",
        "# Create model\n",
        "model = ConcreteModel()\n",
        "\n",
        "# Sets\n",
        "model.I = Set(initialize=['1'])  # single coordinated phase for now\n",
        "\n",
        "# Parameters\n",
        "C = 120\n",
        "t_AB = 65\n",
        "g_min = 15\n",
        "g_max = 60\n",
        "M = 1000  # Large constant for Big-M\n",
        "\n",
        "model.C = Param(initialize=C)\n",
        "model.t_AB = Param(initialize=t_AB)\n",
        "model.g_min = Param(initialize=g_min)\n",
        "model.g_max = Param(initialize=g_max)\n",
        "model.M = Param(initialize=M)\n",
        "\n",
        "# Variables\n",
        "model.s_A = Var(model.I, bounds=(0, C))                     # start at A\n",
        "model.s_B = Var(model.I, bounds=(0, C))                     # start at B\n",
        "model.g_A = Var(model.I, bounds=(g_min, g_max))             # green time at A\n",
        "model.g_B = Var(model.I, bounds=(g_min, g_max))             # green time at B\n",
        "\n",
        "model.e_A = Var(model.I)                                    # end time at A\n",
        "model.e_B = Var(model.I)                                    # end time at B\n",
        "\n",
        "model.early_end = Var(model.I)                              # min(e_A, e_B - t_AB)\n",
        "model.late_start = Var(model.I)                             # max(s_A, s_B - t_AB)\n",
        "model.o = Var(model.I, within=NonNegativeReals)             # overlap duration\n",
        "\n",
        "model.x = Var(model.I, within=Binary)                       # for min()\n",
        "model.y = Var(model.I, within=Binary)                       # for max()\n",
        "\n",
        "# Constraints\n",
        "\n",
        "# End time definitions\n",
        "def end_A_rule(m, i):\n",
        "    return m.e_A[i] == m.s_A[i] + m.g_A[i]\n",
        "model.end_A = Constraint(model.I, rule=end_A_rule)\n",
        "\n",
        "def end_B_rule(m, i):\n",
        "    return m.e_B[i] == m.s_B[i] + m.g_B[i]\n",
        "model.end_B = Constraint(model.I, rule=end_B_rule)\n",
        "\n",
        "# Shifted values (in constraints directly, so no extra variables)\n",
        "\n",
        "# Min(e_A, e_B - t_AB) using binary x\n",
        "def min_upper_1(m, i):\n",
        "    return m.early_end[i] <= m.e_A[i]\n",
        "def min_upper_2(m, i):\n",
        "    return m.early_end[i] <= m.e_B[i] - m.t_AB\n",
        "def min_lower_1(m, i):\n",
        "    return m.early_end[i] >= m.e_A[i] - m.M * (1 - m.x[i])\n",
        "def min_lower_2(m, i):\n",
        "    return m.early_end[i] >= m.e_B[i] - m.t_AB - m.M * m.x[i]\n",
        "\n",
        "model.min1_u1 = Constraint(model.I, rule=min_upper_1)\n",
        "model.min1_u2 = Constraint(model.I, rule=min_upper_2)\n",
        "model.min1_l1 = Constraint(model.I, rule=min_lower_1)\n",
        "model.min1_l2 = Constraint(model.I, rule=min_lower_2)\n",
        "\n",
        "# Max(s_A, s_B - t_AB) using binary y\n",
        "def max_lower_1(m, i):\n",
        "    return m.late_start[i] >= m.s_A[i]\n",
        "def max_lower_2(m, i):\n",
        "    return m.late_start[i] >= m.s_B[i] - m.t_AB\n",
        "def max_upper_1(m, i):\n",
        "    return m.late_start[i] <= m.s_A[i] + m.M * (1 - m.y[i])\n",
        "def max_upper_2(m, i):\n",
        "    return m.late_start[i] <= m.s_B[i] - m.t_AB + m.M * m.y[i]\n",
        "\n",
        "model.max1_l1 = Constraint(model.I, rule=max_lower_1)\n",
        "model.max1_l2 = Constraint(model.I, rule=max_lower_2)\n",
        "model.max1_u1 = Constraint(model.I, rule=max_upper_1)\n",
        "model.max1_u2 = Constraint(model.I, rule=max_upper_2)\n",
        "\n",
        "# Overlap definition\n",
        "def overlap_rule(m, i):\n",
        "    return m.o[i] == m.early_end[i] - m.late_start[i]\n",
        "model.overlap_def = Constraint(model.I, rule=overlap_rule)\n",
        "\n",
        "# Ensure non-negative overlap\n",
        "def overlap_nonneg(m, i):\n",
        "    return m.o[i] >= 0\n",
        "model.overlap_nonneg = Constraint(model.I, rule=overlap_nonneg)\n",
        "\n",
        "# Objective: maximize total overlap\n",
        "def objective_rule(m):\n",
        "    return sum(m.o[i] for i in m.I)\n",
        "model.obj = Objective(rule=objective_rule, sense=maximize)\n"
      ],
      "metadata": {
        "id": "MpxEVKMzzzQF"
      },
      "execution_count": 2,
      "outputs": []
    },
    {
      "cell_type": "code",
      "source": [
        "solver = SolverFactory(\"glpk\", executable=\"/usr/bin/glpsol\")\n",
        "\n",
        "results = solver.solve(model, tee=True)\n",
        "\n"
      ],
      "metadata": {
        "colab": {
          "base_uri": "https://localhost:8080/"
        },
        "id": "6nztokvXz4rP",
        "outputId": "a9621d10-4ab7-4038-83a3-74868e25db96"
      },
      "execution_count": 3,
      "outputs": [
        {
          "output_type": "stream",
          "name": "stdout",
          "text": [
            "GLPSOL--GLPK LP/MIP Solver 5.0\n",
            "Parameter(s) specified in the command line:\n",
            " --write /tmp/tmpbd_s4u7h.glpk.raw --wglp /tmp/tmp635zfort.glpk.glp --cpxlp\n",
            " /tmp/tmphyto7cbp.pyomo.lp\n",
            "Reading problem data from '/tmp/tmphyto7cbp.pyomo.lp'...\n",
            "/tmp/tmphyto7cbp.pyomo.lp:88: warning: lower bound of variable 'x15' redefined\n",
            "/tmp/tmphyto7cbp.pyomo.lp:88: warning: upper bound of variable 'x15' redefined\n",
            "12 rows, 11 columns, 30 non-zeros\n",
            "2 integer variables, all of which are binary\n",
            "90 lines were read\n",
            "Writing problem data to '/tmp/tmp635zfort.glpk.glp'...\n",
            "75 lines were written\n",
            "GLPK Integer Optimizer 5.0\n",
            "12 rows, 11 columns, 30 non-zeros\n",
            "2 integer variables, all of which are binary\n",
            "Preprocessing...\n",
            "4 constraint coefficient(s) were reduced\n",
            "11 rows, 8 columns, 26 non-zeros\n",
            "2 integer variables, all of which are binary\n",
            "Scaling...\n",
            " A: min|aij| =  1.000e+00  max|aij| =  1.800e+02  ratio =  1.800e+02\n",
            "GM: min|aij| =  8.940e-01  max|aij| =  1.119e+00  ratio =  1.251e+00\n",
            "EQ: min|aij| =  7.993e-01  max|aij| =  1.000e+00  ratio =  1.251e+00\n",
            "2N: min|aij| =  8.984e-01  max|aij| =  1.406e+00  ratio =  1.565e+00\n",
            "Constructing initial basis...\n",
            "Size of triangular part is 11\n",
            "Solving LP relaxation...\n",
            "GLPK Simplex Optimizer 5.0\n",
            "11 rows, 8 columns, 26 non-zeros\n",
            "      0: obj =  -0.000000000e+00 inf =   6.000e+01 (1)\n",
            "      1: obj =  -0.000000000e+00 inf =   0.000e+00 (0)\n",
            "*     5: obj =   6.000000000e+01 inf =   0.000e+00 (0)\n",
            "OPTIMAL LP SOLUTION FOUND\n",
            "Integer optimization begins...\n",
            "Long-step dual simplex will be used\n",
            "+     5: mip =     not found yet <=              +inf        (1; 0)\n",
            "+     5: >>>>>   6.000000000e+01 <=   6.000000000e+01   0.0% (1; 0)\n",
            "+     5: mip =   6.000000000e+01 <=     tree is empty   0.0% (0; 1)\n",
            "INTEGER OPTIMAL SOLUTION FOUND\n",
            "Time used:   0.0 secs\n",
            "Memory used: 0.1 Mb (66042 bytes)\n",
            "Writing MIP solution to '/tmp/tmpbd_s4u7h.glpk.raw'...\n",
            "32 lines were written\n"
          ]
        }
      ]
    },
    {
      "cell_type": "code",
      "source": [
        "\n",
        "for i in model.I:\n",
        "    print(f\"Phase {i}:\")\n",
        "    print(f\"  s_A = {value(model.s_A[i]):.2f}\")\n",
        "    print(f\"  g_A = {value(model.g_A[i]):.2f}\")\n",
        "    print(f\"  s_B = {value(model.s_B[i]):.2f}\")\n",
        "    print(f\"  g_B = {value(model.g_B[i]):.2f}\")\n",
        "    print(f\"  Overlap = {value(model.o[i]):.2f}\")\n"
      ],
      "metadata": {
        "colab": {
          "base_uri": "https://localhost:8080/"
        },
        "id": "ffdz602uz4pI",
        "outputId": "d00e034b-1b35-4ba2-8e23-4f544839e720"
      },
      "execution_count": 4,
      "outputs": [
        {
          "output_type": "stream",
          "name": "stdout",
          "text": [
            "Phase 1:\n",
            "  s_A = 0.00\n",
            "  g_A = 60.00\n",
            "  s_B = 65.00\n",
            "  g_B = 60.00\n",
            "  Overlap = 60.00\n"
          ]
        }
      ]
    },
    {
      "cell_type": "code",
      "source": [
        "from pyomo.environ import *\n",
        "\n",
        "def build_corridor_overlap_model(n_signals, cycle_time, travel_times, g_min, g_max, M=1000):\n",
        "    model = ConcreteModel()\n",
        "\n",
        "    # Sets\n",
        "    model.J = RangeSet(1, n_signals)\n",
        "\n",
        "    # Parameters\n",
        "    model.C = Param(initialize=cycle_time)\n",
        "    model.t = Param(model.J, initialize=travel_times)\n",
        "    model.g_min = Param(initialize=g_min)\n",
        "    model.g_max = Param(initialize=g_max)\n",
        "    model.M = Param(initialize=M)\n",
        "\n",
        "    # Variables\n",
        "    model.s = Var(model.J, bounds=(0, cycle_time))           # green start\n",
        "    model.g = Var(model.J, bounds=(g_min, g_max))            # green duration\n",
        "    model.e = Var(model.J)                                   # green end\n",
        "    model.x = Var(model.J, within=Binary)                    # for early_end (min)\n",
        "    model.y = Var(model.J, within=Binary)                    # for late_start (max)\n",
        "\n",
        "    model.early_end = Var()                                  # min(e_j - t_j)\n",
        "    model.late_start = Var()                                 # max(s_j - t_j)\n",
        "    model.o = Var(within=NonNegativeReals)                   # overlap\n",
        "\n",
        "    # Constraints\n",
        "    def end_def(m, j):\n",
        "        return m.e[j] == m.s[j] + m.g[j]\n",
        "    model.end_def = Constraint(model.J, rule=end_def)\n",
        "\n",
        "    # Min (early_end)\n",
        "    def early_upper(m, j):\n",
        "        return m.early_end <= m.e[j] - m.t[j]\n",
        "    def early_lower(m, j):\n",
        "        return m.early_end >= m.e[j] - m.t[j] - m.M * m.x[j]\n",
        "    model.early_upper = Constraint(model.J, rule=early_upper)\n",
        "    model.early_lower = Constraint(model.J, rule=early_lower)\n",
        "\n",
        "    # Max (late_start)\n",
        "    def late_lower(m, j):\n",
        "        return m.late_start >= m.s[j] - m.t[j]\n",
        "    def late_upper(m, j):\n",
        "        return m.late_start <= m.s[j] - m.t[j] + m.M * m.y[j]\n",
        "    model.late_lower = Constraint(model.J, rule=late_lower)\n",
        "    model.late_upper = Constraint(model.J, rule=late_upper)\n",
        "\n",
        "    # Min/max selector constraints\n",
        "    model.min_selector = Constraint(expr=sum(model.x[j] for j in model.J) == n_signals - 1)\n",
        "    model.max_selector = Constraint(expr=sum(model.y[j] for j in model.J) == n_signals - 1)\n",
        "\n",
        "    # Overlap definition\n",
        "    model.overlap_def = Constraint(expr=model.o == model.early_end - model.late_start)\n",
        "    model.overlap_nonneg = Constraint(expr=model.o >= 0)\n",
        "\n",
        "    # Objective\n",
        "    model.obj = Objective(expr=model.o, sense=maximize)\n",
        "\n",
        "    return model\n"
      ],
      "metadata": {
        "id": "Fz_mkxSuUnGN"
      },
      "execution_count": 5,
      "outputs": []
    },
    {
      "cell_type": "code",
      "source": [
        "import random\n",
        "from pyomo.environ import SolverFactory, value\n",
        "\n",
        "# Parameters\n",
        "n = 5                              # Number of signals\n",
        "C = 120                             # Cycle time in seconds\n",
        "g_min = 25\n",
        "g_max = 46\n",
        "\n",
        "# Random cumulative travel times (monotonically increasing)\n",
        "distances = sorted(random.randint(150, 500) for _ in range(n))\n",
        "speeds = [random.uniform(10, 15) for _ in range(n)]  # m/s\n",
        "t = {j + 1: distances[j] / speeds[j] for j in range(n)}  # seconds\n",
        "\n",
        "# Build and solve model\n",
        "model = build_corridor_overlap_model(n_signals=n, cycle_time=C, travel_times=t, g_min=g_min, g_max=g_max)\n",
        "\n",
        "solver = SolverFactory(\"glpk\", executable=\"/usr/bin/glpsol\")\n",
        "results = solver.solve(model, tee=False)\n",
        "\n",
        "# Print results\n",
        "print(f\"\\n🟢 Max corridor green-band overlap: {value(model.o):.2f} seconds\\n\")\n",
        "for j in model.J:\n",
        "    print(f\"Signal {j}: Start = {value(model.s[j]):.2f}, Green = {value(model.g[j]):.2f}, Travel Time = {t[j]:.2f}\")\n"
      ],
      "metadata": {
        "colab": {
          "base_uri": "https://localhost:8080/"
        },
        "id": "YV3XTGSMUv87",
        "outputId": "723c8245-b839-49d0-8dcd-8a05632552fd"
      },
      "execution_count": 6,
      "outputs": [
        {
          "output_type": "stream",
          "name": "stdout",
          "text": [
            "\n",
            "🟢 Max corridor green-band overlap: 46.00 seconds\n",
            "\n",
            "Signal 1: Start = 1.27, Green = 46.00, Travel Time = 15.25\n",
            "Signal 2: Start = 0.00, Green = 46.00, Travel Time = 13.99\n",
            "Signal 3: Start = 1.38, Green = 46.00, Travel Time = 15.37\n",
            "Signal 4: Start = 0.88, Green = 46.00, Travel Time = 14.86\n",
            "Signal 5: Start = 2.65, Green = 46.00, Travel Time = 16.64\n"
          ]
        }
      ]
    },
    {
      "cell_type": "code",
      "source": [
        "import matplotlib.pyplot as plt\n",
        "\n",
        "def plot_green_bands(model, travel_times):\n",
        "    fig, ax = plt.subplots(figsize=(10, 6))\n",
        "\n",
        "    for j in model.J:\n",
        "        s = value(model.s[j])\n",
        "        g = value(model.g[j])\n",
        "        t = travel_times[j]\n",
        "        start_shifted = s - t\n",
        "        end_shifted = start_shifted + g\n",
        "\n",
        "        # Draw green bar\n",
        "        ax.broken_barh([(start_shifted, g)], (j - 0.4, 0.8), facecolors='green')\n",
        "\n",
        "        # Annotate\n",
        "        ax.text(start_shifted + g / 2, j, f\"{g:.1f}s\", va='center', ha='center', color='white', fontsize=8)\n",
        "\n",
        "    # Format axes\n",
        "    ax.set_xlabel(\"Time (shifted to signal 1 reference) [s]\")\n",
        "    ax.set_ylabel(\"Signal Index\")\n",
        "    ax.set_title(\"🟢 Green Band Visualization\")\n",
        "    ax.set_yticks(list(model.J))\n",
        "    ax.grid(True, axis='x', linestyle='--', alpha=0.5)\n",
        "    ax.set_ylim(0.5, len(model.J) + 0.5)\n",
        "    plt.tight_layout()\n",
        "    plt.show()\n"
      ],
      "metadata": {
        "id": "YO1gTm28VmFx"
      },
      "execution_count": 7,
      "outputs": []
    },
    {
      "cell_type": "code",
      "source": [
        "plot_green_bands(model, t)\n"
      ],
      "metadata": {
        "colab": {
          "base_uri": "https://localhost:8080/",
          "height": 680
        },
        "id": "5W-seb0DVpnL",
        "outputId": "64100d76-c69a-41f1-c500-c8fab7f5abd3"
      },
      "execution_count": 8,
      "outputs": [
        {
          "output_type": "stream",
          "name": "stderr",
          "text": [
            "/tmp/ipython-input-7-1522795884.py:26: UserWarning: Glyph 128994 (\\N{LARGE GREEN CIRCLE}) missing from font(s) DejaVu Sans.\n",
            "  plt.tight_layout()\n",
            "/usr/local/lib/python3.11/dist-packages/IPython/core/pylabtools.py:151: UserWarning: Glyph 128994 (\\N{LARGE GREEN CIRCLE}) missing from font(s) DejaVu Sans.\n",
            "  fig.canvas.print_figure(bytes_io, **kw)\n"
          ]
        },
        {
          "output_type": "display_data",
          "data": {
            "text/plain": [
              "<Figure size 1000x600 with 1 Axes>"
            ],
            "image/png": "[encoded data removed]"
          },
          "metadata": {}
        }
      ]
    },
    {
      "cell_type": "code",
      "source": [
        "from pyomo.environ import *\n",
        "\n",
        "def build_bidirectional_corridor_model(n, C, t_outbound, t_inbound, g_min, g_max, M=1000):\n",
        "    model = ConcreteModel()\n",
        "    model.J = RangeSet(1, n)\n",
        "\n",
        "    model.C = Param(initialize=C)\n",
        "    model.t_out = Param(model.J, initialize=t_outbound)\n",
        "    model.t_in = Param(model.J, initialize=t_inbound)\n",
        "    model.g_min = Param(initialize=g_min)\n",
        "    model.g_max = Param(initialize=g_max)\n",
        "    model.M = Param(initialize=M)\n",
        "\n",
        "    # OUTBOUND direction (1 → n)\n",
        "    model.s = Var(model.J, bounds=(0, C))\n",
        "    model.g = Var(model.J, bounds=(g_min, g_max))\n",
        "    model.e = Var(model.J)\n",
        "    model.x = Var(model.J, within=Binary)\n",
        "    model.y = Var(model.J, within=Binary)\n",
        "    model.early_end_out = Var()\n",
        "    model.late_start_out = Var()\n",
        "    model.o_out = Var(within=NonNegativeReals)\n",
        "\n",
        "    # INBOUND direction (n → 1)\n",
        "    model.s_rev = Var(model.J, bounds=(0, C))\n",
        "    model.g_rev = Var(model.J, bounds=(g_min, g_max))\n",
        "    model.e_rev = Var(model.J)\n",
        "    model.x_rev = Var(model.J, within=Binary)\n",
        "    model.y_rev = Var(model.J, within=Binary)\n",
        "    model.early_end_in = Var()\n",
        "    model.late_start_in = Var()\n",
        "    model.o_in = Var(within=NonNegativeReals)\n",
        "\n",
        "    ## --- OUTBOUND constraints ---\n",
        "    def end_out_rule(m, j): return m.e[j] == m.s[j] + m.g[j]\n",
        "    model.end_out = Constraint(model.J, rule=end_out_rule)\n",
        "\n",
        "    def early_upper_out(m, j): return m.early_end_out <= m.e[j] - m.t_out[j]\n",
        "    def early_lower_out(m, j): return m.early_end_out >= m.e[j] - m.t_out[j] - m.M * m.x[j]\n",
        "    def late_lower_out(m, j): return m.late_start_out >= m.s[j] - m.t_out[j]\n",
        "    def late_upper_out(m, j): return m.late_start_out <= m.s[j] - m.t_out[j] + m.M * m.y[j]\n",
        "\n",
        "    model.early_upper_out = Constraint(model.J, rule=early_upper_out)\n",
        "    model.early_lower_out = Constraint(model.J, rule=early_lower_out)\n",
        "    model.late_lower_out = Constraint(model.J, rule=late_lower_out)\n",
        "    model.late_upper_out = Constraint(model.J, rule=late_upper_out)\n",
        "\n",
        "    model.min_selector_out = Constraint(expr=sum(model.x[j] for j in model.J) == n - 1)\n",
        "    model.max_selector_out = Constraint(expr=sum(model.y[j] for j in model.J) == n - 1)\n",
        "    model.overlap_out_def = Constraint(expr=model.o_out == model.early_end_out - model.late_start_out)\n",
        "    model.overlap_out_pos = Constraint(expr=model.o_out >= 0)\n",
        "\n",
        "    ## --- INBOUND constraints ---\n",
        "    def end_in_rule(m, j): return m.e_rev[j] == m.s_rev[j] + m.g_rev[j]\n",
        "    model.end_in = Constraint(model.J, rule=end_in_rule)\n",
        "\n",
        "    def early_upper_in(m, j): return m.early_end_in <= m.e_rev[j] - m.t_in[j]\n",
        "    def early_lower_in(m, j): return m.early_end_in >= m.e_rev[j] - m.t_in[j] - m.M * m.x_rev[j]\n",
        "    def late_lower_in(m, j): return m.late_start_in >= m.s_rev[j] - m.t_in[j]\n",
        "    def late_upper_in(m, j): return m.late_start_in <= m.s_rev[j] - m.t_in[j] + m.M * m.y_rev[j]\n",
        "\n",
        "    model.early_upper_in = Constraint(model.J, rule=early_upper_in)\n",
        "    model.early_lower_in = Constraint(model.J, rule=early_lower_in)\n",
        "    model.late_lower_in = Constraint(model.J, rule=late_lower_in)\n",
        "    model.late_upper_in = Constraint(model.J, rule=late_upper_in)\n",
        "\n",
        "    model.min_selector_in = Constraint(expr=sum(model.x_rev[j] for j in model.J) == n - 1)\n",
        "    model.max_selector_in = Constraint(expr=sum(model.y_rev[j] for j in model.J) == n - 1)\n",
        "    model.overlap_in_def = Constraint(expr=model.o_in == model.early_end_in - model.late_start_in)\n",
        "    model.overlap_in_pos = Constraint(expr=model.o_in >= 0)\n",
        "\n",
        "    ## --- Objective ---\n",
        "    model.obj = Objective(expr=model.o_out + model.o_in, sense=maximize)\n",
        "\n",
        "    return model\n"
      ],
      "metadata": {
        "id": "KLUwEP5NWJxA"
      },
      "execution_count": 9,
      "outputs": []
    },
    {
      "cell_type": "code",
      "source": [
        "# Number of signals\n",
        "n = 5\n",
        "C = 90\n",
        "g_min = 10\n",
        "g_max = 45\n",
        "\n",
        "# Realistic fixed signal spacing (in meters)\n",
        "positions = [0, 280, 610, 900, 1230]  # cumulative distances from signal 1\n",
        "speed = 15  # m/s (≈ 54 km/h)\n",
        "\n",
        "# Outbound: from signal 1 to others\n",
        "t_out = {j + 1: (positions[j] - positions[0]) / speed for j in range(n)}\n",
        "\n",
        "# Inbound: from signal n to others (reverse direction)\n",
        "t_in = {j + 1: (positions[-1] - positions[j]) / speed for j in range(n)}\n",
        "\n",
        "# Build and solve\n",
        "model = build_bidirectional_corridor_model(n, C, t_out, t_in, g_min, g_max)\n",
        "\n",
        "solver = SolverFactory(\"glpk\", executable=\"/usr/bin/glpsol\")  # adjust path as needed\n",
        "solver.solve(model)\n",
        "\n",
        "# Output results\n",
        "print(f\"\\n🟢 Total overlap: Outbound = {value(model.o_out):.2f}, Inbound = {value(model.o_in):.2f}\\n\")\n",
        "\n"
      ],
      "metadata": {
        "colab": {
          "base_uri": "https://localhost:8080/"
        },
        "id": "Z8c5Spb3WLjF",
        "outputId": "24916170-e587-4f37-b336-18c6b9d3bcf3"
      },
      "execution_count": 10,
      "outputs": [
        {
          "output_type": "stream",
          "name": "stdout",
          "text": [
            "\n",
            "🟢 Total overlap: Outbound = 45.00, Inbound = 45.00\n",
            "\n"
          ]
        }
      ]
    },
    {
      "cell_type": "markdown",
      "source": [],
      "metadata": {
        "id": "238uG-VhVpab"
      }
    },
    {
      "cell_type": "code",
      "source": [],
      "metadata": {
        "id": "NlTGo_e3WyTm"
      },
      "execution_count": 10,
      "outputs": []
    },
    {
      "cell_type": "code",
      "source": [],
      "metadata": {
        "id": "H5cEKPcWWzh-"
      },
      "execution_count": 10,
      "outputs": []
    },
    {
      "cell_type": "code",
      "source": [
        "print(\"=== OUTBOUND ===\")\n",
        "for j in model.J:\n",
        "    print(f\"Signal {j}: s = {value(model.s[j]):.2f}, t = {t_out[j]:.2f}, shifted = {value(model.s[j]) - t_out[j]:.2f}\")\n",
        "\n",
        "print(\"\\n=== INBOUND ===\")\n",
        "for j in model.J:\n",
        "    print(f\"Signal {j}: s_rev = {value(model.s_rev[j]):.2f}, t = {t_in[j]:.2f}, shifted = {value(model.s_rev[j]) - t_in[j]:.2f}\")\n"
      ],
      "metadata": {
        "colab": {
          "base_uri": "https://localhost:8080/"
        },
        "id": "OHBmjJ4AXLfh",
        "outputId": "8c8e1f1f-43eb-417c-d8b2-9773c2edba29"
      },
      "execution_count": 11,
      "outputs": [
        {
          "output_type": "stream",
          "name": "stdout",
          "text": [
            "=== OUTBOUND ===\n",
            "Signal 1: s = 0.00, t = 0.00, shifted = 0.00\n",
            "Signal 2: s = 18.67, t = 18.67, shifted = 0.00\n",
            "Signal 3: s = 40.67, t = 40.67, shifted = 0.00\n",
            "Signal 4: s = 60.00, t = 60.00, shifted = 0.00\n",
            "Signal 5: s = 82.00, t = 82.00, shifted = 0.00\n",
            "\n",
            "=== INBOUND ===\n",
            "Signal 1: s_rev = 82.00, t = 82.00, shifted = 0.00\n",
            "Signal 2: s_rev = 63.33, t = 63.33, shifted = -0.00\n",
            "Signal 3: s_rev = 41.33, t = 41.33, shifted = -0.00\n",
            "Signal 4: s_rev = 22.00, t = 22.00, shifted = 0.00\n",
            "Signal 5: s_rev = 0.00, t = 0.00, shifted = 0.00\n"
          ]
        }
      ]
    },
    {
      "cell_type": "code",
      "source": [
        "def plot_actual_green_bands_two_cycles(model):\n",
        "    C = value(model.C)\n",
        "    n = len(model.J)\n",
        "    fig, ax = plt.subplots(figsize=(10, 10))\n",
        "\n",
        "    for j in model.J:\n",
        "        s_out = value(model.s[j])\n",
        "        g_out = value(model.g[j])\n",
        "        s_in = value(model.s_rev[j])\n",
        "        g_in = value(model.g_rev[j])\n",
        "\n",
        "        for cycle in [0, 1]:\n",
        "            shift = cycle * C\n",
        "\n",
        "            # Outbound (green) - signal's own time\n",
        "            ax.broken_barh([(j - 0.35, 0.3)], (s_out + shift, g_out), facecolors='green')\n",
        "\n",
        "            # Inbound (red) - signal's own time\n",
        "            ax.broken_barh([(j + 0.05, 0.3)], (s_in + shift, g_in), facecolors='red')\n",
        "\n",
        "    ax.set_ylabel(\"Time [s]\")\n",
        "    ax.set_xlabel(\"Signal Index\")\n",
        "    ax.set_title(\"🟢 Outbound & 🔴 Inbound Green Bands at Signal Controllers Over Two Cycles\")\n",
        "    ax.set_xticks(list(model.J))\n",
        "    ax.set_xlim(0.5, n + 0.5)\n",
        "    ax.set_ylim(0, 2 * C + 10)\n",
        "    ax.grid(True, axis='y', linestyle='--', alpha=0.5)\n",
        "    plt.tight_layout()\n",
        "    plt.show()\n"
      ],
      "metadata": {
        "id": "vnHXGPvlZNFD"
      },
      "execution_count": 12,
      "outputs": []
    },
    {
      "cell_type": "code",
      "source": [
        "plot_actual_green_bands_two_cycles(model)\n"
      ],
      "metadata": {
        "colab": {
          "base_uri": "https://localhost:8080/",
          "height": 1000
        },
        "id": "RAsemnoYZOdH",
        "outputId": "236c276f-c88a-4b75-a86e-4b2e37acb1a4"
      },
      "execution_count": 13,
      "outputs": [
        {
          "output_type": "stream",
          "name": "stderr",
          "text": [
            "/tmp/ipython-input-12-544274376.py:28: UserWarning: Glyph 128994 (\\N{LARGE GREEN CIRCLE}) missing from font(s) DejaVu Sans.\n",
            "  plt.tight_layout()\n",
            "/tmp/ipython-input-12-544274376.py:28: UserWarning: Glyph 128308 (\\N{LARGE RED CIRCLE}) missing from font(s) DejaVu Sans.\n",
            "  plt.tight_layout()\n",
            "/usr/local/lib/python3.11/dist-packages/IPython/core/pylabtools.py:151: UserWarning: Glyph 128308 (\\N{LARGE RED CIRCLE}) missing from font(s) DejaVu Sans.\n",
            "  fig.canvas.print_figure(bytes_io, **kw)\n"
          ]
        },
        {
          "output_type": "display_data",
          "data": {
            "text/plain": [
              "<Figure size 1000x1000 with 1 Axes>"
            ],
            "image/png": "[encoded data removed]"
          },
          "metadata": {}
        }
      ]
    },
    {
      "cell_type": "code",
      "source": [
        "def plot_clean_side_by_side_green_bands(model):\n",
        "    C = value(model.C)\n",
        "    n = len(model.J)\n",
        "    fig, ax = plt.subplots(figsize=(2.5 * n, 12))  # much bigger\n",
        "\n",
        "    bar_width = 0.09\n",
        "    bar_spacing = 0.02\n",
        "\n",
        "    for j in model.J:\n",
        "        s_out = [value(model.s[j]) + k * C for k in [0, 1]]\n",
        "        g_out = [value(model.g[j])] * 2\n",
        "        s_in = [value(model.s_rev[j]) + k * C for k in [0, 1]]\n",
        "        g_in = [value(model.g_rev[j])] * 2\n",
        "\n",
        "        x_green = j - bar_width / 2 - bar_spacing / 2\n",
        "        x_red   = j + bar_spacing / 2\n",
        "\n",
        "        for shift, g in zip(s_out, g_out):\n",
        "            ax.broken_barh([(x_green, bar_width)], (shift, g), facecolors='green')\n",
        "\n",
        "        for shift, g in zip(s_in, g_in):\n",
        "            ax.broken_barh([(x_red, bar_width)], (shift, g), facecolors='red')\n",
        "\n",
        "    ax.set_ylabel(\"Time [s]\", fontsize=14)\n",
        "    ax.set_xlabel(\"Signal Index\", fontsize=14)\n",
        "    ax.set_title(\"🟢 Outbound and 🔴 Inbound Green Bands per Signal (2 Cycles)\", fontsize=16)\n",
        "    ax.set_xticks(list(model.J))\n",
        "    ax.set_xlim(0.5, n + 0.5)\n",
        "    ax.set_ylim(0, 2 * C + 10)\n",
        "    ax.tick_params(axis='both', labelsize=12)\n",
        "    ax.grid(True, axis='y', linestyle='--', alpha=0.4)\n",
        "    plt.tight_layout()\n",
        "    plt.show()\n"
      ],
      "metadata": {
        "id": "3SrrRk6Hbvbv"
      },
      "execution_count": 14,
      "outputs": []
    },
    {
      "cell_type": "code",
      "source": [
        "plot_clean_side_by_side_green_bands(model)\n"
      ],
      "metadata": {
        "colab": {
          "base_uri": "https://localhost:8080/",
          "height": 1000
        },
        "id": "vmnTb-NSb2xN",
        "outputId": "ebe59d1c-2897-43dc-a913-e67fa56d44ad"
      },
      "execution_count": 15,
      "outputs": [
        {
          "output_type": "stream",
          "name": "stderr",
          "text": [
            "/tmp/ipython-input-14-461212595.py:32: UserWarning: Glyph 128994 (\\N{LARGE GREEN CIRCLE}) missing from font(s) DejaVu Sans.\n",
            "  plt.tight_layout()\n",
            "/tmp/ipython-input-14-461212595.py:32: UserWarning: Glyph 128308 (\\N{LARGE RED CIRCLE}) missing from font(s) DejaVu Sans.\n",
            "  plt.tight_layout()\n"
          ]
        },
        {
          "output_type": "display_data",
          "data": {
            "text/plain": [
              "<Figure size 1250x1200 with 1 Axes>"
            ],
            "image/png": "[encoded data removed]"
          },
          "metadata": {}
        }
      ]
    },
    {
      "cell_type": "code",
      "source": [
        "# code below calculates the white space in each intersection.\n",
        "# next we want to see what happens if we want this white space not be smaller than a certain amount!!\n",
        "\n",
        "\n",
        "def compute_non_coord_time_double_cycle(model):\n",
        "    C = value(model.C)\n",
        "    results = {}\n",
        "    for j in model.J:\n",
        "        intervals = []\n",
        "        for k in [0, 1]:  # two cycles\n",
        "            s_out_k = value(model.s[j]) + k * C\n",
        "            e_out_k = s_out_k + value(model.g[j])\n",
        "            intervals.append((s_out_k, e_out_k))\n",
        "\n",
        "            s_in_k = value(model.s_rev[j]) + k * C\n",
        "            e_in_k = s_in_k + value(model.g_rev[j])\n",
        "            intervals.append((s_in_k, e_in_k))\n",
        "\n",
        "        intervals.sort()\n",
        "        merged = []\n",
        "        for start, end in intervals:\n",
        "            if not merged or start > merged[-1][1]:\n",
        "                merged.append([start, end])\n",
        "            else:\n",
        "                merged[-1][1] = max(merged[-1][1], end)\n",
        "\n",
        "        used_time = sum(end - start for start, end in merged)\n",
        "        non_coord_time = 2 * C - used_time\n",
        "\n",
        "        # Round to 1 decimal place\n",
        "        merged_rounded = [[round(start, 1), round(end, 1)] for start, end in merged]\n",
        "        results[j] = {\n",
        "            \"merged_intervals\": merged_rounded,\n",
        "            \"used_time\": round(used_time, 1),\n",
        "            \"non_coord_time\": round(non_coord_time, 1)\n",
        "        }\n",
        "\n",
        "    return results\n",
        "\n",
        "\n",
        "from pprint import pprint\n",
        "pprint(compute_non_coord_time_double_cycle(model))\n"
      ],
      "metadata": {
        "colab": {
          "base_uri": "https://localhost:8080/"
        },
        "id": "A3IeH3OywjXy",
        "outputId": "0ed6befe-e09a-44c2-8702-7c10dd91a234"
      },
      "execution_count": 25,
      "outputs": [
        {
          "output_type": "stream",
          "name": "stdout",
          "text": [
            "{1: {'merged_intervals': [[0.0, 45.0], [82.0, 135.0], [172.0, 217.0]],\n",
            "     'non_coord_time': 37.0,\n",
            "     'used_time': 143.0},\n",
            " 2: {'merged_intervals': [[18.7, 108.3], [108.7, 198.3]],\n",
            "     'non_coord_time': 0.7,\n",
            "     'used_time': 179.3},\n",
            " 3: {'merged_intervals': [[40.7, 86.3], [130.7, 176.3]],\n",
            "     'non_coord_time': 88.7,\n",
            "     'used_time': 91.3},\n",
            " 4: {'merged_intervals': [[22.0, 105.0], [112.0, 195.0]],\n",
            "     'non_coord_time': 14.0,\n",
            "     'used_time': 166.0},\n",
            " 5: {'merged_intervals': [[0.0, 45.0], [82.0, 135.0], [172.0, 217.0]],\n",
            "     'non_coord_time': 37.0,\n",
            "     'used_time': 143.0}}\n"
          ]
        }
      ]
    },
    {
      "cell_type": "code",
      "source": [
        "from pyomo.environ import *\n",
        "\n",
        "def build_bidirectional_corridor_model(n, C, t_outbound, t_inbound, g_min, g_max, non_coord_min, M=1000):\n",
        "    model = ConcreteModel()\n",
        "    model.J = RangeSet(1, n)\n",
        "\n",
        "    # --- Parameters ---\n",
        "    model.C = Param(initialize=C)\n",
        "    model.t_out = Param(model.J, initialize=t_outbound)\n",
        "    model.t_in = Param(model.J, initialize=t_inbound)\n",
        "    model.g_min = Param(initialize=g_min)\n",
        "    model.g_max = Param(initialize=g_max)\n",
        "    model.M = Param(initialize=M)\n",
        "    model.non_coord_min = Param(initialize=non_coord_min)\n",
        "\n",
        "    # --- OUTBOUND variables (1 → n) ---\n",
        "    model.s = Var(model.J, bounds=(0, C))                        # green start\n",
        "    model.g = Var(model.J, bounds=(g_min, g_max))                # green duration\n",
        "    model.e = Var(model.J)                                       # green end\n",
        "    model.x = Var(model.J, within=Binary)                        # min selector\n",
        "    model.y = Var(model.J, within=Binary)                        # max selector\n",
        "    model.early_end_out = Var()\n",
        "    model.late_start_out = Var()\n",
        "    model.o_out = Var(within=NonNegativeReals)                  # overlap amount\n",
        "\n",
        "    # --- INBOUND variables (n → 1) ---\n",
        "    model.s_rev = Var(model.J, bounds=(0, C))\n",
        "    model.g_rev = Var(model.J, bounds=(g_min, g_max))\n",
        "    model.e_rev = Var(model.J)\n",
        "    model.x_rev = Var(model.J, within=Binary)\n",
        "    model.y_rev = Var(model.J, within=Binary)\n",
        "    model.early_end_in = Var()\n",
        "    model.late_start_in = Var()\n",
        "    model.o_in = Var(within=NonNegativeReals)\n",
        "\n",
        "    # --- NON-COORDINATED (white space) ---\n",
        "    model.non_coord = Var(model.J, within=NonNegativeReals)\n",
        "\n",
        "    # --- OUTBOUND constraints ---\n",
        "    def end_out_rule(m, j): return m.e[j] == m.s[j] + m.g[j]\n",
        "    model.end_out = Constraint(model.J, rule=end_out_rule)\n",
        "\n",
        "    def early_upper_out(m, j): return m.early_end_out <= m.e[j] - m.t_out[j]\n",
        "    def early_lower_out(m, j): return m.early_end_out >= m.e[j] - m.t_out[j] - m.M * m.x[j]\n",
        "    def late_lower_out(m, j): return m.late_start_out >= m.s[j] - m.t_out[j]\n",
        "    def late_upper_out(m, j): return m.late_start_out <= m.s[j] - m.t_out[j] + m.M * m.y[j]\n",
        "\n",
        "    model.early_upper_out = Constraint(model.J, rule=early_upper_out)\n",
        "    model.early_lower_out = Constraint(model.J, rule=early_lower_out)\n",
        "    model.late_lower_out = Constraint(model.J, rule=late_lower_out)\n",
        "    model.late_upper_out = Constraint(model.J, rule=late_upper_out)\n",
        "\n",
        "    model.min_selector_out = Constraint(expr=sum(model.x[j] for j in model.J) == n - 1)\n",
        "    model.max_selector_out = Constraint(expr=sum(model.y[j] for j in model.J) == n - 1)\n",
        "    model.overlap_out_def = Constraint(expr=model.o_out == model.early_end_out - model.late_start_out)\n",
        "    model.overlap_out_pos = Constraint(expr=model.o_out >= 0)\n",
        "\n",
        "    # --- INBOUND constraints ---\n",
        "    def end_in_rule(m, j): return m.e_rev[j] == m.s_rev[j] + m.g_rev[j]\n",
        "    model.end_in = Constraint(model.J, rule=end_in_rule)\n",
        "\n",
        "    def early_upper_in(m, j): return m.early_end_in <= m.e_rev[j] - m.t_in[j]\n",
        "    def early_lower_in(m, j): return m.early_end_in >= m.e_rev[j] - m.t_in[j] - m.M * m.x_rev[j]\n",
        "    def late_lower_in(m, j): return m.late_start_in >= m.s_rev[j] - m.t_in[j]\n",
        "    def late_upper_in(m, j): return m.late_start_in <= m.s_rev[j] - m.t_in[j] + m.M * m.y_rev[j]\n",
        "\n",
        "    model.early_upper_in = Constraint(model.J, rule=early_upper_in)\n",
        "    model.early_lower_in = Constraint(model.J, rule=early_lower_in)\n",
        "    model.late_lower_in = Constraint(model.J, rule=late_lower_in)\n",
        "    model.late_upper_in = Constraint(model.J, rule=late_upper_in)\n",
        "\n",
        "    model.min_selector_in = Constraint(expr=sum(model.x_rev[j] for j in model.J) == n - 1)\n",
        "    model.max_selector_in = Constraint(expr=sum(model.y_rev[j] for j in model.J) == n - 1)\n",
        "    model.overlap_in_def = Constraint(expr=model.o_in == model.early_end_in - model.late_start_in)\n",
        "    model.overlap_in_pos = Constraint(expr=model.o_in >= 0)\n",
        "\n",
        "    # --- WHITE SPACE constraints ---\n",
        "    def non_coord_time_rule(m, j):\n",
        "        return m.non_coord[j] == m.C - (m.g[j] + m.g_rev[j])\n",
        "    model.non_coord_def = Constraint(model.J, rule=non_coord_time_rule)\n",
        "\n",
        "    def non_coord_thresh_rule(m, j):\n",
        "        return m.non_coord[j] >= m.non_coord_min\n",
        "    model.non_coord_min_constraint = Constraint(model.J, rule=non_coord_thresh_rule)\n",
        "\n",
        "    # --- Objective ---\n",
        "    model.obj = Objective(expr=model.o_out + model.o_in, sense=maximize)\n",
        "\n",
        "    return model\n"
      ],
      "metadata": {
        "id": "-hdzlGwGyT0z"
      },
      "execution_count": 26,
      "outputs": []
    },
    {
      "cell_type": "code",
      "source": [
        "from pyomo.environ import *\n",
        "from pprint import pprint\n",
        "\n",
        "# === Corridor and Signal Parameters ===\n",
        "n = 5\n",
        "C = 90\n",
        "g_min = 10\n",
        "g_max = 45\n",
        "non_coord_min = 25  # reserve at least 10s per signal for other phases\n",
        "\n",
        "# === Signal spacing and speed ===\n",
        "positions = [0, 280, 610, 900, 1230]  # meters\n",
        "speed = 15  # m/s (≈ 54 km/h)\n",
        "\n",
        "# === Travel times ===\n",
        "t_out = {j + 1: (positions[j] - positions[0]) / speed for j in range(n)}\n",
        "t_in = {j + 1: (positions[-1] - positions[j]) / speed for j in range(n)}\n",
        "\n",
        "# === Model import ===\n",
        "# Make sure the updated build_bidirectional_corridor_model function is already defined\n",
        "\n",
        "# === Build and solve the model ===\n",
        "model = build_bidirectional_corridor_model(\n",
        "    n=n,\n",
        "    C=C,\n",
        "    t_outbound=t_out,\n",
        "    t_inbound=t_in,\n",
        "    g_min=g_min,\n",
        "    g_max=g_max,\n",
        "    non_coord_min=non_coord_min\n",
        ")\n",
        "\n",
        "solver = SolverFactory(\"glpk\", executable=\"/usr/bin/glpsol\")  # update path as needed\n",
        "result = solver.solve(model, tee=True)\n",
        "\n",
        "# === Output summary ===\n",
        "print(f\"\\n🟢 Total Overlap:\\n  Outbound = {value(model.o_out):.2f} s\\n  Inbound  = {value(model.o_in):.2f} s\\n\")\n",
        "\n",
        "print(\"⏳ Non-Coordinated Time per Signal:\")\n",
        "for j in model.J:\n",
        "    print(f\"  Signal {j}: {value(model.non_coord[j]):.1f} s\")\n",
        "\n",
        "print(\"\\n🟢 Green Time Allocations:\")\n",
        "for j in model.J:\n",
        "    print(f\"  Signal {j}: Outbound g = {value(model.g[j]):.1f}, Inbound g = {value(model.g_rev[j]):.1f}\")\n"
      ],
      "metadata": {
        "colab": {
          "base_uri": "https://localhost:8080/"
        },
        "id": "lA5rWy2Q0SuD",
        "outputId": "a6617beb-e07d-4e29-9d85-8efc3cbf1ba7"
      },
      "execution_count": 27,
      "outputs": [
        {
          "output_type": "stream",
          "name": "stdout",
          "text": [
            "GLPSOL--GLPK LP/MIP Solver 5.0\n",
            "Parameter(s) specified in the command line:\n",
            " --write /tmp/tmpe1_75ncm.glpk.raw --wglp /tmp/tmpf8mx2x5t.glpk.glp --cpxlp\n",
            " /tmp/tmpa8zdh27w.pyomo.lp\n",
            "Reading problem data from '/tmp/tmpa8zdh27w.pyomo.lp'...\n",
            "/tmp/tmpa8zdh27w.pyomo.lp:455: warning: lower bound of variable 'x31' redefined\n",
            "/tmp/tmpa8zdh27w.pyomo.lp:455: warning: upper bound of variable 'x31' redefined\n",
            "68 rows, 61 columns, 178 non-zeros\n",
            "20 integer variables, all of which are binary\n",
            "475 lines were read\n",
            "Writing problem data to '/tmp/tmpf8mx2x5t.glpk.glp'...\n",
            "409 lines were written\n",
            "GLPK Integer Optimizer 5.0\n",
            "68 rows, 61 columns, 178 non-zeros\n",
            "20 integer variables, all of which are binary\n",
            "Preprocessing...\n",
            "20 constraint coefficient(s) were reduced\n",
            "61 rows, 54 columns, 164 non-zeros\n",
            "20 integer variables, all of which are binary\n",
            "Scaling...\n",
            " A: min|aij| =  1.000e+00  max|aij| =  1.350e+02  ratio =  1.350e+02\n",
            "GM: min|aij| =  8.009e-01  max|aij| =  1.249e+00  ratio =  1.559e+00\n",
            "EQ: min|aij| =  6.564e-01  max|aij| =  1.000e+00  ratio =  1.523e+00\n",
            "2N: min|aij| =  4.141e-01  max|aij| =  1.055e+00  ratio =  2.547e+00\n",
            "Constructing initial basis...\n",
            "Size of triangular part is 61\n",
            "Solving LP relaxation...\n",
            "GLPK Simplex Optimizer 5.0\n",
            "61 rows, 54 columns, 164 non-zeros\n",
            "      0: obj =  -0.000000000e+00 inf =   2.302e+02 (14)\n",
            "     29: obj =  -7.105427358e-15 inf =   4.441e-15 (0)\n",
            "*    54: obj =   6.500000000e+01 inf =   1.332e-14 (0)\n",
            "OPTIMAL LP SOLUTION FOUND\n",
            "Integer optimization begins...\n",
            "Long-step dual simplex will be used\n",
            "+    54: mip =     not found yet <=              +inf        (1; 0)\n",
            "+    54: >>>>>   6.500000000e+01 <=   6.500000000e+01   0.0% (1; 0)\n",
            "+    54: mip =   6.500000000e+01 <=     tree is empty   0.0% (0; 1)\n",
            "INTEGER OPTIMAL SOLUTION FOUND\n",
            "Time used:   0.0 secs\n",
            "Memory used: 0.1 Mb (139956 bytes)\n",
            "Writing MIP solution to '/tmp/tmpe1_75ncm.glpk.raw'...\n",
            "138 lines were written\n",
            "\n",
            "🟢 Total Overlap:\n",
            "  Outbound = 20.00 s\n",
            "  Inbound  = 45.00 s\n",
            "\n",
            "⏳ Non-Coordinated Time per Signal:\n",
            "  Signal 1: 25.0 s\n",
            "  Signal 2: 25.0 s\n",
            "  Signal 3: 25.0 s\n",
            "  Signal 4: 25.0 s\n",
            "  Signal 5: 25.0 s\n",
            "\n",
            "🟢 Green Time Allocations:\n",
            "  Signal 1: Outbound g = 20.0, Inbound g = 45.0\n",
            "  Signal 2: Outbound g = 20.0, Inbound g = 45.0\n",
            "  Signal 3: Outbound g = 20.0, Inbound g = 45.0\n",
            "  Signal 4: Outbound g = 20.0, Inbound g = 45.0\n",
            "  Signal 5: Outbound g = 20.0, Inbound g = 45.0\n"
          ]
        }
      ]
    },
    {
      "cell_type": "code",
      "source": [
        "plot_clean_side_by_side_green_bands(model)\n"
      ],
      "metadata": {
        "colab": {
          "base_uri": "https://localhost:8080/",
          "height": 1000
        },
        "id": "lCtu1bnq0dKN",
        "outputId": "78a8b370-edeb-4989-cd69-b6fa66bcd9ed"
      },
      "execution_count": 28,
      "outputs": [
        {
          "output_type": "stream",
          "name": "stderr",
          "text": [
            "/tmp/ipython-input-14-461212595.py:32: UserWarning: Glyph 128994 (\\N{LARGE GREEN CIRCLE}) missing from font(s) DejaVu Sans.\n",
            "  plt.tight_layout()\n",
            "/tmp/ipython-input-14-461212595.py:32: UserWarning: Glyph 128308 (\\N{LARGE RED CIRCLE}) missing from font(s) DejaVu Sans.\n",
            "  plt.tight_layout()\n",
            "/usr/local/lib/python3.11/dist-packages/IPython/core/pylabtools.py:151: UserWarning: Glyph 128994 (\\N{LARGE GREEN CIRCLE}) missing from font(s) DejaVu Sans.\n",
            "  fig.canvas.print_figure(bytes_io, **kw)\n",
            "/usr/local/lib/python3.11/dist-packages/IPython/core/pylabtools.py:151: UserWarning: Glyph 128308 (\\N{LARGE RED CIRCLE}) missing from font(s) DejaVu Sans.\n",
            "  fig.canvas.print_figure(bytes_io, **kw)\n"
          ]
        },
        {
          "output_type": "display_data",
          "data": {
            "text/plain": [
              "<Figure size 1250x1200 with 1 Axes>"
            ],
            "image/png": "[encoded data removed]"
          },
          "metadata": {}
        }
      ]
    }
  ]
}